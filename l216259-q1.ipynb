/******************************************************************************

Welcome to GDB Online.
GDB online is an online compiler and debugger tool for C, C++, Python, PHP, Ruby, 
C#, OCaml, VB, Perl, Swift, Prolog, Javascript, Pascal, HTML, CSS, JS
Code, Compile, Run and Debug online from anywhere in world.

*******************************************************************************/
def check_input(matrix):
  N = len(matrix)
  for i in range(N):
    for j in range(N):
      count =0
      if type(matrix[i][j]) == str:
        return False
      if matrix[i][j] < 1 or matrix[i][j] > N:
        return False
      for k in range(N):
        if matrix[i][j] == matrix[i][k]:
          count = count +1
      if count > 1:
        return False
  for j in range(N):
    for i in range(N):
      count = 0
      for k in range(N):
        if matrix[i][j] == matrix[k][j]:
          count = count +1
      if count > 1:
        return False
  return True